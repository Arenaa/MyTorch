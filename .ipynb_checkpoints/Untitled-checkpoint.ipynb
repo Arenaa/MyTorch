{
 "cells": [
  {
   "cell_type": "code",
   "execution_count": 13,
   "id": "d9a132d7-03b1-4a6b-8132-3bf0548feb26",
   "metadata": {},
   "outputs": [],
   "source": [
    "import numpy as np\n",
    "from mytorch.nn import Linear\n",
    "\n",
    "A = np.array([\n",
    "        [-4., -3.],\n",
    "        [-2., -1.],\n",
    "        [0., 1.],\n",
    "        [2., 3.]], dtype=\"f\")\n",
    "\n",
    "W = np.array([\n",
    "    [-2., -1.],\n",
    "    [0., 1.],\n",
    "    [2., 3.]], dtype=\"f\")\n",
    "\n",
    "b = np.array([\n",
    "    [-1.],\n",
    "    [0.],\n",
    "    [1.]], dtype=\"f\")\n",
    "\n",
    "linear = Linear(2, 3, debug=True)\n",
    "linear.W = W\n",
    "linear.b = b"
   ]
  },
  {
   "cell_type": "code",
   "execution_count": 14,
   "id": "887bdcd4-2e96-45e8-9117-e9342c09dd3b",
   "metadata": {},
   "outputs": [
    {
     "data": {
      "text/plain": [
       "(3, 2)"
      ]
     },
     "execution_count": 14,
     "metadata": {},
     "output_type": "execute_result"
    }
   ],
   "source": [
    "linear.W.shape"
   ]
  },
  {
   "cell_type": "code",
   "execution_count": 7,
   "id": "eb6b0869-f7f0-4705-b7aa-eab030eb9524",
   "metadata": {},
   "outputs": [
    {
     "data": {
      "text/plain": [
       "(4, 2)"
      ]
     },
     "execution_count": 7,
     "metadata": {},
     "output_type": "execute_result"
    }
   ],
   "source": [
    "A.shape"
   ]
  },
  {
   "cell_type": "code",
   "execution_count": 8,
   "id": "4a74667b-a5a9-4960-8c03-b2e1a3bd0830",
   "metadata": {},
   "outputs": [
    {
     "data": {
      "text/plain": [
       "(3, 1)"
      ]
     },
     "execution_count": 8,
     "metadata": {},
     "output_type": "execute_result"
    }
   ],
   "source": [
    "b.shape"
   ]
  },
  {
   "cell_type": "code",
   "execution_count": 10,
   "id": "9f880f44-7eac-4e52-894d-989b6bc2285f",
   "metadata": {},
   "outputs": [
    {
     "data": {
      "text/plain": [
       "array([[-2., -1.],\n",
       "       [ 0.,  1.],\n",
       "       [ 2.,  3.]], dtype=float32)"
      ]
     },
     "execution_count": 10,
     "metadata": {},
     "output_type": "execute_result"
    }
   ],
   "source": [
    "linear.W"
   ]
  },
  {
   "cell_type": "code",
   "execution_count": 15,
   "id": "2bb0e3e9-9f95-403a-afd2-6913387fed36",
   "metadata": {},
   "outputs": [
    {
     "ename": "ValueError",
     "evalue": "matmul: Input operand 1 has a mismatch in its core dimension 0, with gufunc signature (n?,k),(k,m?)->(n?,m?) (size 3 is different from 2)",
     "output_type": "error",
     "traceback": [
      "\u001b[0;31m---------------------------------------------------------------------------\u001b[0m",
      "\u001b[0;31mValueError\u001b[0m                                Traceback (most recent call last)",
      "Cell \u001b[0;32mIn[15], line 1\u001b[0m\n\u001b[0;32m----> 1\u001b[0m Z \u001b[38;5;241m=\u001b[39m \u001b[43mlinear\u001b[49m\u001b[38;5;241;43m.\u001b[39;49m\u001b[43mforward\u001b[49m\u001b[43m(\u001b[49m\u001b[43mA\u001b[49m\u001b[43m)\u001b[49m\n",
      "File \u001b[0;32m~/Documents/NLP-projects/MyTorch/mytorch/nn/linear.py:26\u001b[0m, in \u001b[0;36mLinear.forward\u001b[0;34m(self, A)\u001b[0m\n\u001b[1;32m     24\u001b[0m \u001b[38;5;66;03m# Think how will self.Ones helps in the calculations and uncomment below\u001b[39;00m\n\u001b[1;32m     25\u001b[0m \u001b[38;5;28mself\u001b[39m\u001b[38;5;241m.\u001b[39mOnes \u001b[38;5;241m=\u001b[39m np\u001b[38;5;241m.\u001b[39mones((\u001b[38;5;28mself\u001b[39m\u001b[38;5;241m.\u001b[39mN,\u001b[38;5;241m1\u001b[39m))\n\u001b[0;32m---> 26\u001b[0m Z \u001b[38;5;241m=\u001b[39m A \u001b[38;5;241m@\u001b[39m \u001b[38;5;28mself\u001b[39m\u001b[38;5;241m.\u001b[39mW \u001b[38;5;241m+\u001b[39m  \u001b[38;5;28mself\u001b[39m\u001b[38;5;241m.\u001b[39mOnes \u001b[38;5;241m@\u001b[39m \u001b[38;5;28mself\u001b[39m\u001b[38;5;241m.\u001b[39mb\u001b[38;5;241m.\u001b[39mT\n\u001b[1;32m     27\u001b[0m \u001b[38;5;28;01mreturn\u001b[39;00m Z\n",
      "\u001b[0;31mValueError\u001b[0m: matmul: Input operand 1 has a mismatch in its core dimension 0, with gufunc signature (n?,k),(k,m?)->(n?,m?) (size 3 is different from 2)"
     ]
    }
   ],
   "source": [
    "Z = linear.forward(A)\n"
   ]
  },
  {
   "cell_type": "code",
   "execution_count": null,
   "id": "4b3775ac-4a73-4943-841c-c769956b81d2",
   "metadata": {},
   "outputs": [],
   "source": []
  },
  {
   "cell_type": "code",
   "execution_count": null,
   "id": "c2ecd9e2-b11d-45c1-a78d-d51f427e8893",
   "metadata": {},
   "outputs": [],
   "source": []
  }
 ],
 "metadata": {
  "kernelspec": {
   "display_name": "ml",
   "language": "python",
   "name": "ml"
  },
  "language_info": {
   "codemirror_mode": {
    "name": "ipython",
    "version": 3
   },
   "file_extension": ".py",
   "mimetype": "text/x-python",
   "name": "python",
   "nbconvert_exporter": "python",
   "pygments_lexer": "ipython3",
   "version": "3.10.8"
  }
 },
 "nbformat": 4,
 "nbformat_minor": 5
}
