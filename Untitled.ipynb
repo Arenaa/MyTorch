{
 "cells": [
  {
   "cell_type": "code",
   "execution_count": 1,
   "id": "d9a132d7-03b1-4a6b-8132-3bf0548feb26",
   "metadata": {},
   "outputs": [],
   "source": [
    "import numpy as np\n",
    "from mytorch.nn import Linear\n",
    "\n",
    "A = np.array([\n",
    "        [-4., -3.],\n",
    "        [-2., -1.],\n",
    "        [0., 1.],\n",
    "        [2., 3.]], dtype=\"f\")\n",
    "\n",
    "W = np.array([\n",
    "    [-2., -1.],\n",
    "    [0., 1.],\n",
    "    [2., 3.]], dtype=\"f\")\n",
    "\n",
    "b = np.array([\n",
    "    [-1.],\n",
    "    [0.],\n",
    "    [1.]], dtype=\"f\")\n",
    "\n",
    "linear = Linear(2, 3, debug=True)\n",
    "linear.W = W\n",
    "linear.b = b"
   ]
  },
  {
   "cell_type": "code",
   "execution_count": 14,
   "id": "887bdcd4-2e96-45e8-9117-e9342c09dd3b",
   "metadata": {},
   "outputs": [
    {
     "data": {
      "text/plain": [
       "(3, 2)"
      ]
     },
     "execution_count": 14,
     "metadata": {},
     "output_type": "execute_result"
    }
   ],
   "source": [
    "linear.W.shape"
   ]
  },
  {
   "cell_type": "code",
   "execution_count": 7,
   "id": "eb6b0869-f7f0-4705-b7aa-eab030eb9524",
   "metadata": {},
   "outputs": [
    {
     "data": {
      "text/plain": [
       "(4, 2)"
      ]
     },
     "execution_count": 7,
     "metadata": {},
     "output_type": "execute_result"
    }
   ],
   "source": [
    "A.shape"
   ]
  },
  {
   "cell_type": "code",
   "execution_count": 8,
   "id": "4a74667b-a5a9-4960-8c03-b2e1a3bd0830",
   "metadata": {},
   "outputs": [
    {
     "data": {
      "text/plain": [
       "(3, 1)"
      ]
     },
     "execution_count": 8,
     "metadata": {},
     "output_type": "execute_result"
    }
   ],
   "source": [
    "b.shape"
   ]
  },
  {
   "cell_type": "code",
   "execution_count": 10,
   "id": "9f880f44-7eac-4e52-894d-989b6bc2285f",
   "metadata": {},
   "outputs": [
    {
     "data": {
      "text/plain": [
       "array([[-2., -1.],\n",
       "       [ 0.,  1.],\n",
       "       [ 2.,  3.]], dtype=float32)"
      ]
     },
     "execution_count": 10,
     "metadata": {},
     "output_type": "execute_result"
    }
   ],
   "source": [
    "linear.W"
   ]
  },
  {
   "cell_type": "code",
   "execution_count": 3,
   "id": "2bb0e3e9-9f95-403a-afd2-6913387fed36",
   "metadata": {},
   "outputs": [],
   "source": [
    "Z = linear.forward(A)\n"
   ]
  },
  {
   "cell_type": "code",
   "execution_count": 3,
   "id": "315bd4b2-cf48-4502-8bcd-e7bc3605ffb2",
   "metadata": {},
   "outputs": [
    {
     "data": {
      "text/plain": [
       "(4, 3)"
      ]
     },
     "execution_count": 3,
     "metadata": {},
     "output_type": "execute_result"
    }
   ],
   "source": [
    "Z.shape"
   ]
  },
  {
   "cell_type": "code",
   "execution_count": 4,
   "id": "04c846c1-596a-4ada-bb0d-34391be74997",
   "metadata": {},
   "outputs": [
    {
     "data": {
      "text/plain": [
       "array([[ 10.,  -3., -16.],\n",
       "       [  4.,  -1.,  -6.],\n",
       "       [ -2.,   1.,   4.],\n",
       "       [ -8.,   3.,  14.]])"
      ]
     },
     "execution_count": 4,
     "metadata": {},
     "output_type": "execute_result"
    }
   ],
   "source": [
    "Z"
   ]
  },
  {
   "cell_type": "code",
   "execution_count": 4,
   "id": "7f28761b-e513-4877-b41a-116810db6732",
   "metadata": {},
   "outputs": [],
   "source": [
    "dLdZ = np.array([\n",
    "        [-4., -3., -2.],\n",
    "        [-1., -0., 1.],\n",
    "        [2., 3., 4.],\n",
    "        [5., 6., 7.]], dtype=\"f\")\n",
    "\n",
    "dLdA = linear.backward(dLdZ)"
   ]
  },
  {
   "cell_type": "code",
   "execution_count": 5,
   "id": "466e286a-ea6a-4359-a23d-510c31d3b461",
   "metadata": {},
   "outputs": [
    {
     "data": {
      "text/plain": [
       "array([[ 4., -5.],\n",
       "       [ 4.,  4.],\n",
       "       [ 4., 13.],\n",
       "       [ 4., 22.]], dtype=float32)"
      ]
     },
     "execution_count": 5,
     "metadata": {},
     "output_type": "execute_result"
    }
   ],
   "source": [
    "dLdA"
   ]
  },
  {
   "cell_type": "code",
   "execution_count": null,
   "id": "fff47724-4877-430f-82fe-3a59d78ef049",
   "metadata": {},
   "outputs": [],
   "source": []
  },
  {
   "cell_type": "code",
   "execution_count": null,
   "id": "4f27d673-4da1-4979-80cb-02ac54522448",
   "metadata": {},
   "outputs": [],
   "source": []
  },
  {
   "cell_type": "code",
   "execution_count": 2,
   "id": "4b3775ac-4a73-4943-841c-c769956b81d2",
   "metadata": {},
   "outputs": [
    {
     "data": {
      "text/plain": [
       "(4, 2)"
      ]
     },
     "execution_count": 2,
     "metadata": {},
     "output_type": "execute_result"
    }
   ],
   "source": [
    "linear.W.shape\n",
    "A.shape"
   ]
  },
  {
   "cell_type": "code",
   "execution_count": 4,
   "id": "c2ecd9e2-b11d-45c1-a78d-d51f427e8893",
   "metadata": {},
   "outputs": [
    {
     "data": {
      "text/plain": [
       "array([[ 11.,  -3., -17.],\n",
       "       [  5.,  -1.,  -7.],\n",
       "       [ -1.,   1.,   3.],\n",
       "       [ -7.,   3.,  13.]], dtype=float32)"
      ]
     },
     "execution_count": 4,
     "metadata": {},
     "output_type": "execute_result"
    }
   ],
   "source": [
    "A @ linear.W.T"
   ]
  }
 ],
 "metadata": {
  "kernelspec": {
   "display_name": "ml",
   "language": "python",
   "name": "ml"
  },
  "language_info": {
   "codemirror_mode": {
    "name": "ipython",
    "version": 3
   },
   "file_extension": ".py",
   "mimetype": "text/x-python",
   "name": "python",
   "nbconvert_exporter": "python",
   "pygments_lexer": "ipython3",
   "version": "3.10.8"
  }
 },
 "nbformat": 4,
 "nbformat_minor": 5
}
